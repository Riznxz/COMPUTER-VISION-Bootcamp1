{
 "cells": [
  {
   "cell_type": "code",
   "execution_count": 2,
   "id": "5477beb8",
   "metadata": {},
   "outputs": [],
   "source": [
    "# !pip install opencv-python\n",
    "# !pip install ipykernel"
   ]
  },
  {
   "cell_type": "code",
   "execution_count": 3,
   "id": "77722193",
   "metadata": {},
   "outputs": [],
   "source": [
    "import cv2"
   ]
  },
  {
   "cell_type": "code",
   "execution_count": 4,
   "id": "e810fcf0",
   "metadata": {},
   "outputs": [],
   "source": [
    "#Reading the image\n",
    "image=cv2.imread(\"mountain.jpeg\")"
   ]
  },
  {
   "cell_type": "code",
   "execution_count": 5,
   "id": "2d535228",
   "metadata": {},
   "outputs": [
    {
     "name": "stdout",
     "output_type": "stream",
     "text": [
      "sunncessfully loaded\n"
     ]
    }
   ],
   "source": [
    "#check if the image is successfully load or not??\n",
    "if image is None:\n",
    "    print(\"Error:image can't load\")\n",
    "else:\n",
    "    print(\"sunncessfully loaded\")"
   ]
  },
  {
   "cell_type": "code",
   "execution_count": 6,
   "id": "6500b180",
   "metadata": {},
   "outputs": [],
   "source": [
    "#displaying the image\n",
    "cv2.imshow(\"image window\",image)\n",
    "cv2.waitKey(0)\n",
    "cv2.destroyAllWindows()"
   ]
  },
  {
   "cell_type": "code",
   "execution_count": 7,
   "id": "07608846",
   "metadata": {},
   "outputs": [
    {
     "data": {
      "text/plain": [
       "True"
      ]
     },
     "execution_count": 7,
     "metadata": {},
     "output_type": "execute_result"
    }
   ],
   "source": [
    "#writing the image\n",
    "new_image= image+30\n",
    "cv2.imwrite(\"output.jpg\",new_image)"
   ]
  },
  {
   "cell_type": "code",
   "execution_count": null,
   "id": "69c58142",
   "metadata": {},
   "outputs": [],
   "source": []
  }
 ],
 "metadata": {
  "kernelspec": {
   "display_name": "base",
   "language": "python",
   "name": "python3"
  },
  "language_info": {
   "codemirror_mode": {
    "name": "ipython",
    "version": 3
   },
   "file_extension": ".py",
   "mimetype": "text/x-python",
   "name": "python",
   "nbconvert_exporter": "python",
   "pygments_lexer": "ipython3",
   "version": "3.12.7"
  }
 },
 "nbformat": 4,
 "nbformat_minor": 5
}
